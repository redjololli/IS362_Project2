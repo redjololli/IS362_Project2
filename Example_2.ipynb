{
 "cells": [
  {
   "cell_type": "code",
   "execution_count": 1,
   "metadata": {},
   "outputs": [],
   "source": [
    "import pandas as pd"
   ]
  },
  {
   "cell_type": "markdown",
   "metadata": {},
   "source": [
    "\n"
   ]
  },
  {
   "cell_type": "code",
   "execution_count": 2,
   "metadata": {},
   "outputs": [
    {
     "data": {
      "text/html": [
       "<div>\n",
       "<style scoped>\n",
       "    .dataframe tbody tr th:only-of-type {\n",
       "        vertical-align: middle;\n",
       "    }\n",
       "\n",
       "    .dataframe tbody tr th {\n",
       "        vertical-align: top;\n",
       "    }\n",
       "\n",
       "    .dataframe thead th {\n",
       "        text-align: right;\n",
       "    }\n",
       "</style>\n",
       "<table border=\"1\" class=\"dataframe\">\n",
       "  <thead>\n",
       "    <tr style=\"text-align: right;\">\n",
       "      <th></th>\n",
       "      <th>Event</th>\n",
       "      <th>Date</th>\n",
       "      <th>Time</th>\n",
       "      <th>Status</th>\n",
       "    </tr>\n",
       "  </thead>\n",
       "  <tbody>\n",
       "    <tr>\n",
       "      <th>0</th>\n",
       "      <td>Failure</td>\n",
       "      <td>Jan/19/2020</td>\n",
       "      <td>4:00 PM</td>\n",
       "      <td>Completed</td>\n",
       "    </tr>\n",
       "    <tr>\n",
       "      <th>1</th>\n",
       "      <td>Maintenance</td>\n",
       "      <td>Jan/10/2020</td>\n",
       "      <td>8:30 AM</td>\n",
       "      <td>Completed</td>\n",
       "    </tr>\n",
       "    <tr>\n",
       "      <th>2</th>\n",
       "      <td>Failure</td>\n",
       "      <td>Jan/11/2020</td>\n",
       "      <td>9:13 AM</td>\n",
       "      <td>Completed</td>\n",
       "    </tr>\n",
       "    <tr>\n",
       "      <th>3</th>\n",
       "      <td>Inspection</td>\n",
       "      <td>Jan/12/2020</td>\n",
       "      <td>3:26 PM</td>\n",
       "      <td>Completed</td>\n",
       "    </tr>\n",
       "    <tr>\n",
       "      <th>4</th>\n",
       "      <td>Failure</td>\n",
       "      <td>Jan/13/2010</td>\n",
       "      <td>4:56 PM</td>\n",
       "      <td>Completed</td>\n",
       "    </tr>\n",
       "    <tr>\n",
       "      <th>5</th>\n",
       "      <td>Maintenance</td>\n",
       "      <td>Jan/15/2010</td>\n",
       "      <td>1:16 PM</td>\n",
       "      <td>Completed</td>\n",
       "    </tr>\n",
       "    <tr>\n",
       "      <th>6</th>\n",
       "      <td>Failure</td>\n",
       "      <td>Jan/20/2010</td>\n",
       "      <td>1:38 PM</td>\n",
       "      <td>Completed</td>\n",
       "    </tr>\n",
       "    <tr>\n",
       "      <th>7</th>\n",
       "      <td>Failure</td>\n",
       "      <td>Jan/25/2010</td>\n",
       "      <td>10:32 AM</td>\n",
       "      <td>Postponed</td>\n",
       "    </tr>\n",
       "    <tr>\n",
       "      <th>8</th>\n",
       "      <td>Cleaning</td>\n",
       "      <td>Jan/28/2010</td>\n",
       "      <td>11:31 AM</td>\n",
       "      <td>Completed</td>\n",
       "    </tr>\n",
       "    <tr>\n",
       "      <th>9</th>\n",
       "      <td>Failure</td>\n",
       "      <td>Feb/02/2010</td>\n",
       "      <td>2:38 PM</td>\n",
       "      <td>Postponed</td>\n",
       "    </tr>\n",
       "  </tbody>\n",
       "</table>\n",
       "</div>"
      ],
      "text/plain": [
       "         Event         Date      Time     Status\n",
       "0      Failure  Jan/19/2020   4:00 PM  Completed\n",
       "1  Maintenance  Jan/10/2020   8:30 AM  Completed\n",
       "2      Failure  Jan/11/2020   9:13 AM  Completed\n",
       "3   Inspection  Jan/12/2020   3:26 PM  Completed\n",
       "4      Failure  Jan/13/2010   4:56 PM  Completed\n",
       "5  Maintenance  Jan/15/2010   1:16 PM  Completed\n",
       "6      Failure  Jan/20/2010   1:38 PM  Completed\n",
       "7      Failure  Jan/25/2010  10:32 AM  Postponed\n",
       "8     Cleaning  Jan/28/2010  11:31 AM  Completed\n",
       "9      Failure  Feb/02/2010   2:38 PM  Postponed"
      ]
     },
     "execution_count": 2,
     "metadata": {},
     "output_type": "execute_result"
    }
   ],
   "source": [
    "# Reading Data From CSV File.\n",
    "repair_log =  pd.read_csv(\"MaintenanceLog.csv\")\n",
    "repair_log.head(10)"
   ]
  },
  {
   "cell_type": "markdown",
   "metadata": {
    "scrolled": true
   },
   "source": [
    "- Rename the columns"
   ]
  },
  {
   "cell_type": "code",
   "execution_count": 3,
   "metadata": {},
   "outputs": [],
   "source": [
    "new_names = {'event': 'Event', \n",
    "                'date': 'Date',\n",
    "                'time ': 'Time', \n",
    "                'status': 'Status',}"
   ]
  },
  {
   "cell_type": "code",
   "execution_count": 4,
   "metadata": {},
   "outputs": [
    {
     "data": {
      "text/plain": [
       "{'event': 'Event', 'date': 'Date', 'time ': 'Time', 'status': 'Status'}"
      ]
     },
     "execution_count": 4,
     "metadata": {},
     "output_type": "execute_result"
    }
   ],
   "source": [
    "new_names"
   ]
  },
  {
   "cell_type": "code",
   "execution_count": 5,
   "metadata": {},
   "outputs": [
    {
     "data": {
      "text/plain": [
       "Event     object\n",
       "Date      object\n",
       "Time      object\n",
       "Status    object\n",
       "dtype: object"
      ]
     },
     "execution_count": 5,
     "metadata": {},
     "output_type": "execute_result"
    }
   ],
   "source": [
    "# Check data types\n",
    "repair_log.dtypes"
   ]
  },
  {
   "cell_type": "markdown",
   "metadata": {},
   "source": [
    "#### Change Status from pump/motor to boolean"
   ]
  },
  {
   "cell_type": "code",
   "execution_count": 6,
   "metadata": {},
   "outputs": [],
   "source": [
    "repaired = {'Complete': True, \n",
    "          'Postponed': False}\n",
    "repair_log['Status'] = repair_log['Status'].map(repaired)"
   ]
  },
  {
   "cell_type": "markdown",
   "metadata": {},
   "source": [
    "#### Show repair status"
   ]
  },
  {
   "cell_type": "code",
   "execution_count": 7,
   "metadata": {},
   "outputs": [
    {
     "data": {
      "text/plain": [
       "Event        Status\n",
       "Cleaning     False     1\n",
       "Failure      False     2\n",
       "Maintenance  False     2\n",
       "Name: Date, dtype: int64"
      ]
     },
     "execution_count": 7,
     "metadata": {},
     "output_type": "execute_result"
    }
   ],
   "source": [
    "df = repair_log.copy()\n",
    "df = (df\n",
    "      .set_index(['Event','Status'])\n",
    "      .groupby(level=['Event','Status'])\n",
    "      .count())\n",
    "\n",
    "df['Date']"
   ]
  }
 ],
 "metadata": {
  "kernelspec": {
   "display_name": "Python 3",
   "language": "python",
   "name": "python3"
  },
  "language_info": {
   "codemirror_mode": {
    "name": "ipython",
    "version": 3
   },
   "file_extension": ".py",
   "mimetype": "text/x-python",
   "name": "python",
   "nbconvert_exporter": "python",
   "pygments_lexer": "ipython3",
   "version": "3.8.3"
  }
 },
 "nbformat": 4,
 "nbformat_minor": 4
}
